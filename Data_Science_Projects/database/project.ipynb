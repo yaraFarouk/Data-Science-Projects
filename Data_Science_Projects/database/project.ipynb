{
 "cells": [
  {
   "cell_type": "code",
   "execution_count": 9,
   "metadata": {},
   "outputs": [
    {
     "name": "stdout",
     "output_type": "stream",
     "text": [
      "<mysql.connector.connection_cext.CMySQLConnection object at 0x00000187E31442F0>\n"
     ]
    }
   ],
   "source": [
    "import mysql.connector\n",
    "\n",
    "# Creating connection object\n",
    "mydb_conn = mysql.connector.connect(\n",
    "    host = \"localhost\",\n",
    "    user = \"root\",\n",
    "    password = \"Yara96210621#\",\n",
    "    database='library'\n",
    ")\n",
    "\n",
    "# Printing the connection object \n",
    "print(mydb_conn)"
   ]
  },
  {
   "cell_type": "code",
   "execution_count": 10,
   "metadata": {},
   "outputs": [
    {
     "data": {
      "text/plain": [
       "<mysql.connector.cursor_cext.CMySQLCursor at 0x187e3144740>"
      ]
     },
     "execution_count": 10,
     "metadata": {},
     "output_type": "execute_result"
    }
   ],
   "source": [
    "cursor = mydb_conn.cursor()\n",
    "cursor"
   ]
  },
  {
   "cell_type": "code",
   "execution_count": 11,
   "metadata": {},
   "outputs": [
    {
     "data": {
      "text/plain": [
       "[(3,)]"
      ]
     },
     "execution_count": 11,
     "metadata": {},
     "output_type": "execute_result"
    }
   ],
   "source": [
    "cursor.execute(\"select count(*) from books where Title = 'Dracula';\")\n",
    "result = cursor.fetchall()\n",
    "result"
   ]
  },
  {
   "cell_type": "code",
   "execution_count": 13,
   "metadata": {},
   "outputs": [
    {
     "data": {
      "text/plain": [
       "[(34,)]"
      ]
     },
     "execution_count": 13,
     "metadata": {},
     "output_type": "execute_result"
    }
   ],
   "source": [
    "cursor.execute(\"\"\"select count(*) from books as b join loans as l on l.bookid = b.bookid\n",
    "where b.Title = 'Dracula';\"\"\")\n",
    "result = cursor.fetchall()\n",
    "result"
   ]
  },
  {
   "cell_type": "code",
   "execution_count": 14,
   "metadata": {},
   "outputs": [
    {
     "data": {
      "text/plain": [
       "[(-31,)]"
      ]
     },
     "execution_count": 14,
     "metadata": {},
     "output_type": "execute_result"
    }
   ],
   "source": [
    "cursor.execute(\"\"\"select (select count(*) from books where Title = 'Dracula')-( select count(*) from books as b join loans as l on l.bookid = b.bookid\n",
    "where b.Title = 'Dracula') as availbe;\"\"\")\n",
    "result = cursor.fetchall()\n",
    "result"
   ]
  },
  {
   "cell_type": "code",
   "execution_count": 17,
   "metadata": {},
   "outputs": [
    {
     "data": {
      "text/plain": [
       "[]"
      ]
     },
     "execution_count": 17,
     "metadata": {},
     "output_type": "execute_result"
    }
   ],
   "source": [
    "cursor.execute(\"\"\"INSERT INTO Books (BookID, Title, Author, Published, BarCode)\n",
    "VALUES (12567890, 'New Book Title', 'Author Name', 2025, NULL);\n",
    "\"\"\")\n",
    "result = cursor.fetchall()\n",
    "result"
   ]
  },
  {
   "cell_type": "code",
   "execution_count": 19,
   "metadata": {},
   "outputs": [
    {
     "data": {
      "text/plain": [
       "[]"
      ]
     },
     "execution_count": 19,
     "metadata": {},
     "output_type": "execute_result"
    }
   ],
   "source": [
    "cursor.execute(\"\"\"INSERT INTO Loans (LoanID, BookID, PatronID, LoanDate, DueDate)\n",
    "VALUES (123467, 10, (SELECT PatronID FROM Patrons WHERE Email = 'jvaan@wisdompets.com'), '2020-08-25', '2020-09-08'),\n",
    "       (2098766, 12, (SELECT PatronID FROM Patrons WHERE Email = 'jvaan@wisdompets.com'), '2020-08-25', '2020-09-08');\n",
    "\"\"\")\n",
    "result = cursor.fetchall()\n",
    "result"
   ]
  },
  {
   "cell_type": "code",
   "execution_count": 20,
   "metadata": {},
   "outputs": [
    {
     "data": {
      "text/plain": [
       "[('The Count of Monte Cristo',\n",
       "  'Alexandre Dumas',\n",
       "  '2020-07-13',\n",
       "  'ksimonian2q@landonhotel.com',\n",
       "  'Kala',\n",
       "  'Simonian'),\n",
       " ('The Prophet',\n",
       "  'Kahlil Gibran',\n",
       "  '2020-07-13',\n",
       "  'lawmack1a@samoca.org',\n",
       "  'Lydie',\n",
       "  'Awmack'),\n",
       " ('Second Treatise of Government',\n",
       "  'John Locke',\n",
       "  '2020-07-13',\n",
       "  'adinjesh@samoca.org',\n",
       "  'Anthe',\n",
       "  'Dinjes'),\n",
       " ('Dracula',\n",
       "  'Bram Stoker',\n",
       "  '2020-07-13',\n",
       "  'ckoppe1m@landonhotel.com',\n",
       "  'Cornelia',\n",
       "  'Koppe')]"
      ]
     },
     "execution_count": 20,
     "metadata": {},
     "output_type": "execute_result"
    }
   ],
   "source": [
    "cursor.execute(\"\"\"SELECT b.Title, b.Author, l.DueDate, p.Email, p.FirstName, p.LastName\n",
    "FROM Loans l\n",
    "JOIN Books b ON l.BookID = b.BookID\n",
    "JOIN Patrons p ON l.PatronID = p.PatronID\n",
    "WHERE l.DueDate = '2020-07-13';\"\"\")\n",
    "result = cursor.fetchall()\n",
    "result"
   ]
  },
  {
   "cell_type": "code",
   "execution_count": 21,
   "metadata": {},
   "outputs": [
    {
     "data": {
      "text/plain": [
       "[]"
      ]
     },
     "execution_count": 21,
     "metadata": {},
     "output_type": "execute_result"
    }
   ],
   "source": [
    "cursor.execute(\"\"\"DELETE FROM Loans \n",
    "WHERE LoanID IN (\n",
    "    SELECT LoanID \n",
    "    FROM (\n",
    "        SELECT LoanID \n",
    "        FROM Loans \n",
    "        WHERE BookID = (SELECT BookID FROM Books WHERE Barcode = 6435968624) \n",
    "        AND DueDate = '2020-07-05'\n",
    "    ) AS subquery\n",
    ");\"\"\")\n",
    "result = cursor.fetchall()\n",
    "result"
   ]
  }
 ],
 "metadata": {
  "kernelspec": {
   "display_name": "ARIMA-LSTM Env",
   "language": "python",
   "name": "arima_lstm_env"
  },
  "language_info": {
   "codemirror_mode": {
    "name": "ipython",
    "version": 3
   },
   "file_extension": ".py",
   "mimetype": "text/x-python",
   "name": "python",
   "nbconvert_exporter": "python",
   "pygments_lexer": "ipython3",
   "version": "3.12.4"
  }
 },
 "nbformat": 4,
 "nbformat_minor": 2
}
